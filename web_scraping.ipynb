{
 "cells": [
  {
   "cell_type": "code",
   "execution_count": 14,
   "id": "a94c3f4b-9099-4a31-a5b4-f1e47f5327bc",
   "metadata": {},
   "outputs": [],
   "source": [
    "import requests\n",
    "import os\n",
    "import shutil"
   ]
  },
  {
   "cell_type": "code",
   "execution_count": 15,
   "id": "de9e8769-d3bc-47ce-a42c-76384dd2d89a",
   "metadata": {},
   "outputs": [],
   "source": [
    "years = list(range(1991,2023))"
   ]
  },
  {
   "cell_type": "code",
   "execution_count": 4,
   "id": "4b9b38a0-bb51-4b3b-8f19-dffde087eeac",
   "metadata": {},
   "outputs": [
    {
     "ename": "NameError",
     "evalue": "name 'years' is not defined",
     "output_type": "error",
     "traceback": [
      "\u001b[1;31m---------------------------------------------------------------------------\u001b[0m",
      "\u001b[1;31mNameError\u001b[0m                                 Traceback (most recent call last)",
      "\u001b[1;32mc:\\Users\\rlato\\Documents\\BasketballGamePredictor\\web_scraping.ipynb Cell 3\u001b[0m in \u001b[0;36m<module>\u001b[1;34m\u001b[0m\n\u001b[0;32m      <a href='vscode-notebook-cell:/c%3A/Users/rlato/Documents/BasketballGamePredictor/web_scraping.ipynb#W2sZmlsZQ%3D%3D?line=0'>1</a>\u001b[0m url_start \u001b[39m=\u001b[39m \u001b[39m\"\u001b[39m\u001b[39mhttps://www.basketball-reference.com/awards/awards_\u001b[39m\u001b[39m{}\u001b[39;00m\u001b[39m.html\u001b[39m\u001b[39m\"\u001b[39m\n\u001b[1;32m----> <a href='vscode-notebook-cell:/c%3A/Users/rlato/Documents/BasketballGamePredictor/web_scraping.ipynb#W2sZmlsZQ%3D%3D?line=2'>3</a>\u001b[0m \u001b[39mfor\u001b[39;00m year \u001b[39min\u001b[39;00m years:\n\u001b[0;32m      <a href='vscode-notebook-cell:/c%3A/Users/rlato/Documents/BasketballGamePredictor/web_scraping.ipynb#W2sZmlsZQ%3D%3D?line=3'>4</a>\u001b[0m     url \u001b[39m=\u001b[39m url_start\u001b[39m.\u001b[39mformat(year)\n\u001b[0;32m      <a href='vscode-notebook-cell:/c%3A/Users/rlato/Documents/BasketballGamePredictor/web_scraping.ipynb#W2sZmlsZQ%3D%3D?line=5'>6</a>\u001b[0m     data \u001b[39m=\u001b[39m requests\u001b[39m.\u001b[39mget(url)\n",
      "\u001b[1;31mNameError\u001b[0m: name 'years' is not defined"
     ]
    }
   ],
   "source": [
    "url_start = \"https://www.basketball-reference.com/awards/awards_{}.html\"\n",
    "\n",
    "for year in years:\n",
    "    url = url_start.format(year)\n",
    "    \n",
    "    data = requests.get(url)\n",
    "\n",
    "    with open(\"mvps_{}.html\".format(year), \"w+\") as f:\n",
    "        f.write(data.text)\n",
    "\n",
    "    "
   ]
  },
  {
   "cell_type": "code",
   "execution_count": 2,
   "id": "2c98459d",
   "metadata": {},
   "outputs": [
    {
     "ename": "NameError",
     "evalue": "name 'year' is not defined",
     "output_type": "error",
     "traceback": [
      "\u001b[1;31m---------------------------------------------------------------------------\u001b[0m",
      "\u001b[1;31mNameError\u001b[0m                                 Traceback (most recent call last)",
      "\u001b[1;32mc:\\Users\\rlato\\Documents\\BasketballGamePredictor\\web_scraping.ipynb Cell 4\u001b[0m in \u001b[0;36m<module>\u001b[1;34m\u001b[0m\n\u001b[1;32m----> <a href='vscode-notebook-cell:/c%3A/Users/rlato/Documents/BasketballGamePredictor/web_scraping.ipynb#W4sZmlsZQ%3D%3D?line=0'>1</a>\u001b[0m \u001b[39mwith\u001b[39;00m \u001b[39mopen\u001b[39m(\u001b[39m\"\u001b[39m\u001b[39mmvps_\u001b[39m\u001b[39m{}\u001b[39;00m\u001b[39m.html\u001b[39m\u001b[39m\"\u001b[39m\u001b[39m.\u001b[39mformat(year), \u001b[39m\"\u001b[39m\u001b[39mw+\u001b[39m\u001b[39m\"\u001b[39m) \u001b[39mas\u001b[39;00m f:\n\u001b[0;32m      <a href='vscode-notebook-cell:/c%3A/Users/rlato/Documents/BasketballGamePredictor/web_scraping.ipynb#W4sZmlsZQ%3D%3D?line=1'>2</a>\u001b[0m         f\u001b[39m.\u001b[39mwrite(data\u001b[39m.\u001b[39mtext)\n\u001b[0;32m      <a href='vscode-notebook-cell:/c%3A/Users/rlato/Documents/BasketballGamePredictor/web_scraping.ipynb#W4sZmlsZQ%3D%3D?line=3'>4</a>\u001b[0m \u001b[39mprint\u001b[39m(data\u001b[39m.\u001b[39mtext)\n",
      "\u001b[1;31mNameError\u001b[0m: name 'year' is not defined"
     ]
    }
   ],
   "source": []
  },
  {
   "cell_type": "code",
   "execution_count": 21,
   "id": "909976ae-457f-430d-be07-f831b6374191",
   "metadata": {},
   "outputs": [],
   "source": [
    "from bs4 import BeautifulSoup"
   ]
  },
  {
   "cell_type": "code",
   "execution_count": 40,
   "id": "df2e0ac4-3d08-48e5-8c42-4ebe12370e4a",
   "metadata": {},
   "outputs": [
    {
     "ename": "AttributeError",
     "evalue": "'NoneType' object has no attribute 'decompose'",
     "output_type": "error",
     "traceback": [
      "\u001b[1;31m---------------------------------------------------------------------------\u001b[0m",
      "\u001b[1;31mAttributeError\u001b[0m                            Traceback (most recent call last)",
      "\u001b[1;32mc:\\Users\\rlato\\Desktop\\web_scraping.ipynb Cell 7\u001b[0m in \u001b[0;36m<module>\u001b[1;34m\u001b[0m\n\u001b[0;32m      <a href='vscode-notebook-cell:/c%3A/Users/rlato/Desktop/web_scraping.ipynb#W4sZmlsZQ%3D%3D?line=1'>2</a>\u001b[0m     page \u001b[39m=\u001b[39m f\u001b[39m.\u001b[39mread()\n\u001b[0;32m      <a href='vscode-notebook-cell:/c%3A/Users/rlato/Desktop/web_scraping.ipynb#W4sZmlsZQ%3D%3D?line=3'>4</a>\u001b[0m soup \u001b[39m=\u001b[39m BeautifulSoup(page, \u001b[39m'\u001b[39m\u001b[39mhtml.parser\u001b[39m\u001b[39m'\u001b[39m)\n\u001b[1;32m----> <a href='vscode-notebook-cell:/c%3A/Users/rlato/Desktop/web_scraping.ipynb#W4sZmlsZQ%3D%3D?line=4'>5</a>\u001b[0m soup\u001b[39m.\u001b[39;49mfind(\u001b[39m'\u001b[39;49m\u001b[39mtr\u001b[39;49m\u001b[39m'\u001b[39;49m, class_\u001b[39m=\u001b[39;49m\u001b[39m\"\u001b[39;49m\u001b[39mover_header\u001b[39;49m\u001b[39m\"\u001b[39;49m)\u001b[39m.\u001b[39;49mdecompose()\n",
      "\u001b[1;31mAttributeError\u001b[0m: 'NoneType' object has no attribute 'decompose'"
     ]
    }
   ],
   "source": [
    "with open(\"awards_1991.html\") as f:\n",
    "    page = f.read()\n",
    "    \n",
    "soup = BeautifulSoup(page, 'html.parser')\n",
    "#soup.find('tr', class_=\"over_header\").decompose()"
   ]
  },
  {
   "cell_type": "code",
   "execution_count": 35,
   "id": "aafb139d-a589-4c4e-9b7d-5921eb85ce07",
   "metadata": {},
   "outputs": [],
   "source": [
    "mvp_table = soup.find_all(id=\"mvp\")"
   ]
  },
  {
   "cell_type": "code",
   "execution_count": 36,
   "id": "b6774ee4-4ffb-4963-984e-80ce24856c9c",
   "metadata": {},
   "outputs": [],
   "source": [
    "import pandas as pd"
   ]
  },
  {
   "cell_type": "code",
   "execution_count": 41,
   "id": "b8578340-330a-4f58-8624-fe842f4bdd5f",
   "metadata": {},
   "outputs": [
    {
     "ename": "ImportError",
     "evalue": "html5lib not found, please install it",
     "output_type": "error",
     "traceback": [
      "\u001b[1;31m---------------------------------------------------------------------------\u001b[0m",
      "\u001b[1;31mImportError\u001b[0m                               Traceback (most recent call last)",
      "\u001b[1;32mc:\\Users\\rlato\\Desktop\\web_scraping.ipynb Cell 10\u001b[0m in \u001b[0;36m<module>\u001b[1;34m\u001b[0m\n\u001b[1;32m----> <a href='vscode-notebook-cell:/c%3A/Users/rlato/Desktop/web_scraping.ipynb#X10sZmlsZQ%3D%3D?line=0'>1</a>\u001b[0m mvp_1991 \u001b[39m=\u001b[39m pd\u001b[39m.\u001b[39;49mread_html(\u001b[39mstr\u001b[39;49m(mvp_table))\n",
      "File \u001b[1;32mc:\\Users\\rlato\\AppData\\Local\\Programs\\Python\\Python310\\lib\\site-packages\\pandas\\util\\_decorators.py:311\u001b[0m, in \u001b[0;36mdeprecate_nonkeyword_arguments.<locals>.decorate.<locals>.wrapper\u001b[1;34m(*args, **kwargs)\u001b[0m\n\u001b[0;32m    305\u001b[0m \u001b[39mif\u001b[39;00m \u001b[39mlen\u001b[39m(args) \u001b[39m>\u001b[39m num_allow_args:\n\u001b[0;32m    306\u001b[0m     warnings\u001b[39m.\u001b[39mwarn(\n\u001b[0;32m    307\u001b[0m         msg\u001b[39m.\u001b[39mformat(arguments\u001b[39m=\u001b[39marguments),\n\u001b[0;32m    308\u001b[0m         \u001b[39mFutureWarning\u001b[39;00m,\n\u001b[0;32m    309\u001b[0m         stacklevel\u001b[39m=\u001b[39mstacklevel,\n\u001b[0;32m    310\u001b[0m     )\n\u001b[1;32m--> 311\u001b[0m \u001b[39mreturn\u001b[39;00m func(\u001b[39m*\u001b[39margs, \u001b[39m*\u001b[39m\u001b[39m*\u001b[39mkwargs)\n",
      "File \u001b[1;32mc:\\Users\\rlato\\AppData\\Local\\Programs\\Python\\Python310\\lib\\site-packages\\pandas\\io\\html.py:1113\u001b[0m, in \u001b[0;36mread_html\u001b[1;34m(io, match, flavor, header, index_col, skiprows, attrs, parse_dates, thousands, encoding, decimal, converters, na_values, keep_default_na, displayed_only)\u001b[0m\n\u001b[0;32m   1109\u001b[0m validate_header_arg(header)\n\u001b[0;32m   1111\u001b[0m io \u001b[39m=\u001b[39m stringify_path(io)\n\u001b[1;32m-> 1113\u001b[0m \u001b[39mreturn\u001b[39;00m _parse(\n\u001b[0;32m   1114\u001b[0m     flavor\u001b[39m=\u001b[39;49mflavor,\n\u001b[0;32m   1115\u001b[0m     io\u001b[39m=\u001b[39;49mio,\n\u001b[0;32m   1116\u001b[0m     match\u001b[39m=\u001b[39;49mmatch,\n\u001b[0;32m   1117\u001b[0m     header\u001b[39m=\u001b[39;49mheader,\n\u001b[0;32m   1118\u001b[0m     index_col\u001b[39m=\u001b[39;49mindex_col,\n\u001b[0;32m   1119\u001b[0m     skiprows\u001b[39m=\u001b[39;49mskiprows,\n\u001b[0;32m   1120\u001b[0m     parse_dates\u001b[39m=\u001b[39;49mparse_dates,\n\u001b[0;32m   1121\u001b[0m     thousands\u001b[39m=\u001b[39;49mthousands,\n\u001b[0;32m   1122\u001b[0m     attrs\u001b[39m=\u001b[39;49mattrs,\n\u001b[0;32m   1123\u001b[0m     encoding\u001b[39m=\u001b[39;49mencoding,\n\u001b[0;32m   1124\u001b[0m     decimal\u001b[39m=\u001b[39;49mdecimal,\n\u001b[0;32m   1125\u001b[0m     converters\u001b[39m=\u001b[39;49mconverters,\n\u001b[0;32m   1126\u001b[0m     na_values\u001b[39m=\u001b[39;49mna_values,\n\u001b[0;32m   1127\u001b[0m     keep_default_na\u001b[39m=\u001b[39;49mkeep_default_na,\n\u001b[0;32m   1128\u001b[0m     displayed_only\u001b[39m=\u001b[39;49mdisplayed_only,\n\u001b[0;32m   1129\u001b[0m )\n",
      "File \u001b[1;32mc:\\Users\\rlato\\AppData\\Local\\Programs\\Python\\Python310\\lib\\site-packages\\pandas\\io\\html.py:915\u001b[0m, in \u001b[0;36m_parse\u001b[1;34m(flavor, io, match, attrs, encoding, displayed_only, **kwargs)\u001b[0m\n\u001b[0;32m    913\u001b[0m retained \u001b[39m=\u001b[39m \u001b[39mNone\u001b[39;00m\n\u001b[0;32m    914\u001b[0m \u001b[39mfor\u001b[39;00m flav \u001b[39min\u001b[39;00m flavor:\n\u001b[1;32m--> 915\u001b[0m     parser \u001b[39m=\u001b[39m _parser_dispatch(flav)\n\u001b[0;32m    916\u001b[0m     p \u001b[39m=\u001b[39m parser(io, compiled_match, attrs, encoding, displayed_only)\n\u001b[0;32m    918\u001b[0m     \u001b[39mtry\u001b[39;00m:\n",
      "File \u001b[1;32mc:\\Users\\rlato\\AppData\\Local\\Programs\\Python\\Python310\\lib\\site-packages\\pandas\\io\\html.py:864\u001b[0m, in \u001b[0;36m_parser_dispatch\u001b[1;34m(flavor)\u001b[0m\n\u001b[0;32m    862\u001b[0m \u001b[39mif\u001b[39;00m flavor \u001b[39min\u001b[39;00m (\u001b[39m\"\u001b[39m\u001b[39mbs4\u001b[39m\u001b[39m\"\u001b[39m, \u001b[39m\"\u001b[39m\u001b[39mhtml5lib\u001b[39m\u001b[39m\"\u001b[39m):\n\u001b[0;32m    863\u001b[0m     \u001b[39mif\u001b[39;00m \u001b[39mnot\u001b[39;00m _HAS_HTML5LIB:\n\u001b[1;32m--> 864\u001b[0m         \u001b[39mraise\u001b[39;00m \u001b[39mImportError\u001b[39;00m(\u001b[39m\"\u001b[39m\u001b[39mhtml5lib not found, please install it\u001b[39m\u001b[39m\"\u001b[39m)\n\u001b[0;32m    865\u001b[0m     \u001b[39mif\u001b[39;00m \u001b[39mnot\u001b[39;00m _HAS_BS4:\n\u001b[0;32m    866\u001b[0m         \u001b[39mraise\u001b[39;00m \u001b[39mImportError\u001b[39;00m(\u001b[39m\"\u001b[39m\u001b[39mBeautifulSoup4 (bs4) not found, please install it\u001b[39m\u001b[39m\"\u001b[39m)\n",
      "\u001b[1;31mImportError\u001b[0m: html5lib not found, please install it"
     ]
    }
   ],
   "source": [
    "mvp_1991 = pd.read_html(str(mvp_table))[0]"
   ]
  },
  {
   "cell_type": "code",
   "execution_count": null,
   "id": "cb7e02aa-3fe2-4345-911a-db16a39c429a",
   "metadata": {},
   "outputs": [],
   "source": [
    "mvp_1991.head(1)"
   ]
  },
  {
   "cell_type": "code",
   "execution_count": null,
   "id": "ee9f8516-a0a0-42ba-9e8a-a9d71e10ad71",
   "metadata": {},
   "outputs": [],
   "source": [
    "mvp_1991[\"Year\"] = 1991"
   ]
  },
  {
   "cell_type": "code",
   "execution_count": null,
   "id": "94267ea5-1fbe-4eab-aafb-da193a78fec9",
   "metadata": {},
   "outputs": [],
   "source": [
    "mvp_1991.head()"
   ]
  },
  {
   "cell_type": "code",
   "execution_count": null,
   "id": "1a72eb92-9803-4673-95d5-07aa96965380",
   "metadata": {},
   "outputs": [],
   "source": [
    "dfs = []\n",
    "for year in years:\n",
    "    with open(\"mvp/{}.html\".format(year)) as f:\n",
    "        page = f.read()\n",
    "    \n",
    "    soup = BeautifulSoup(page, 'html.parser')\n",
    "    soup.find('tr', class_=\"over_header\").decompose()\n",
    "    mvp_table = soup.find_all(id=\"mvp\")[0]\n",
    "    mvp_df = pd.read_html(str(mvp_table))[0]\n",
    "    mvp_df[\"Year\"] = year\n",
    "    dfs.append(mvp_df)"
   ]
  },
  {
   "cell_type": "code",
   "execution_count": null,
   "id": "7f359a29-1b04-4981-a097-26a6369ceb03",
   "metadata": {},
   "outputs": [],
   "source": [
    "mvps = pd.concat(dfs)\n",
    "\n",
    "mvps.tail()"
   ]
  },
  {
   "cell_type": "code",
   "execution_count": null,
   "id": "f01c744f-abe2-47c7-89eb-5f25b4154baa",
   "metadata": {},
   "outputs": [],
   "source": [
    "mvps.to_csv(\"mvps.csv\")"
   ]
  },
  {
   "cell_type": "code",
   "execution_count": null,
   "id": "554ec189-ef52-4e06-a6b5-a0079cc792b9",
   "metadata": {},
   "outputs": [],
   "source": [
    "player_stats_url = \"https://www.basketball-reference.com/leagues/NBA_{}_per_game.html\"\n",
    "\n",
    "for year in years:\n",
    "    url = player_stats_url.format(year)\n",
    "    \n",
    "    data = requests.get(url)\n",
    "    \n",
    "    with open(\"player/{}.html\".format(year), \"w+\") as f:\n",
    "        f.write(data.text)"
   ]
  },
  {
   "cell_type": "code",
   "execution_count": null,
   "id": "f1b7648f-7e40-4c97-b5ef-ba94518fef8b",
   "metadata": {},
   "outputs": [],
   "source": [
    "import os\n",
    "from selenium import webdriver\n",
    "from selenium.webdriver.common.keys import Keys\n",
    "import time\n",
    "\n",
    "# install selenium chrome driver from https://chromedriver.chromium.org/downloads\n",
    "# xattr -d com.apple.quarantine chromedriver"
   ]
  },
  {
   "cell_type": "code",
   "execution_count": null,
   "id": "ba723c79-2d89-4ca9-aa88-9629fbca1802",
   "metadata": {
    "tags": []
   },
   "outputs": [],
   "source": [
    "driver = webdriver.Chrome(\n",
    "    executable_path=\"/Users/vik/chromedriver\"\n",
    "    )"
   ]
  },
  {
   "cell_type": "code",
   "execution_count": null,
   "id": "0b4301cb-2350-46fd-bc8b-f1d23d2852b5",
   "metadata": {},
   "outputs": [],
   "source": [
    "for year in years:\n",
    "    url = player_stats_url.format(year)\n",
    "    \n",
    "    driver.get(url)\n",
    "    driver.execute_script(\"window.scrollTo(1,10000)\")\n",
    "    time.sleep(2)\n",
    "    \n",
    "    with open(\"player/{}.html\".format(year), \"w+\") as f:\n",
    "        f.write(driver.page_source)"
   ]
  },
  {
   "cell_type": "code",
   "execution_count": null,
   "id": "5c82bfbf-cbba-4128-b04f-53147ba50f4c",
   "metadata": {},
   "outputs": [],
   "source": [
    "dfs = []\n",
    "for year in years:\n",
    "    with open(\"player/{}.html\".format(year)) as f:\n",
    "        page = f.read()\n",
    "    \n",
    "    soup = BeautifulSoup(page, 'html.parser')\n",
    "    soup.find('tr', class_=\"thead\").decompose()\n",
    "    player_table = soup.find_all(id=\"per_game_stats\")[0]\n",
    "    player_df = pd.read_html(str(player_table))[0]\n",
    "    player_df[\"Year\"] = year\n",
    "    dfs.append(player_df)"
   ]
  },
  {
   "cell_type": "code",
   "execution_count": null,
   "id": "c08ff2b7-8e29-49bc-8a99-e9a0445d7ce6",
   "metadata": {},
   "outputs": [],
   "source": [
    "players = pd.concat(dfs)"
   ]
  },
  {
   "cell_type": "code",
   "execution_count": null,
   "id": "00aa85d8-3eb8-4bea-8f51-54df6cd0bf6f",
   "metadata": {},
   "outputs": [],
   "source": [
    "players.head()"
   ]
  },
  {
   "cell_type": "code",
   "execution_count": null,
   "id": "04645c30-9811-44d1-97b7-7bd6edb3cada",
   "metadata": {},
   "outputs": [],
   "source": [
    "players.to_csv(\"players.csv\")"
   ]
  },
  {
   "cell_type": "code",
   "execution_count": null,
   "id": "485c5f1b-a66f-4707-ac4f-3ca236eb2ed9",
   "metadata": {},
   "outputs": [],
   "source": [
    "team_stats_url = \"https://www.basketball-reference.com/leagues/NBA_{}_standings.html\""
   ]
  },
  {
   "cell_type": "code",
   "execution_count": null,
   "id": "74af1956-d588-4554-80a4-4e25771fcd25",
   "metadata": {},
   "outputs": [],
   "source": [
    "for year in years:\n",
    "    url = team_stats_url.format(year)\n",
    "    \n",
    "    data = requests.get(url)\n",
    "    \n",
    "    with open(\"team/{}.html\".format(year), \"w+\") as f:\n",
    "        f.write(data.text)"
   ]
  },
  {
   "cell_type": "code",
   "execution_count": null,
   "id": "b5bd117b-f847-4da2-9f37-171df6a94a53",
   "metadata": {},
   "outputs": [],
   "source": [
    "dfs = []\n",
    "for year in years:\n",
    "    with open(\"team/{}.html\".format(year)) as f:\n",
    "        page = f.read()\n",
    "    \n",
    "    soup = BeautifulSoup(page, 'html.parser')\n",
    "    soup.find('tr', class_=\"thead\").decompose()\n",
    "    e_table = soup.find_all(id=\"divs_standings_E\")[0]\n",
    "    e_df = pd.read_html(str(e_table))[0]\n",
    "    e_df[\"Year\"] = year\n",
    "    e_df[\"Team\"] = e_df[\"Eastern Conference\"]\n",
    "    del e_df[\"Eastern Conference\"]\n",
    "    dfs.append(e_df)\n",
    "    \n",
    "    w_table = soup.find_all(id=\"divs_standings_W\")[0]\n",
    "    w_df = pd.read_html(str(w_table))[0]\n",
    "    w_df[\"Year\"] = year\n",
    "    w_df[\"Team\"] = w_df[\"Western Conference\"]\n",
    "    del w_df[\"Western Conference\"]\n",
    "    dfs.append(w_df)"
   ]
  },
  {
   "cell_type": "code",
   "execution_count": null,
   "id": "5193e14a-0c5e-4f18-820c-1e62140c927f",
   "metadata": {},
   "outputs": [],
   "source": [
    "teams = pd.concat(dfs)"
   ]
  },
  {
   "cell_type": "code",
   "execution_count": null,
   "id": "10187ee5-52d9-4f25-9aa1-754bf737070f",
   "metadata": {},
   "outputs": [],
   "source": [
    "teams.tail()"
   ]
  },
  {
   "cell_type": "code",
   "execution_count": null,
   "id": "873ad710-eea6-430b-b159-39d7956d5733",
   "metadata": {},
   "outputs": [],
   "source": [
    "teams.head()"
   ]
  },
  {
   "cell_type": "code",
   "execution_count": null,
   "id": "ad744882-06c4-4e9c-a752-88677ec27668",
   "metadata": {},
   "outputs": [],
   "source": [
    "teams.to_csv(\"teams.csv\")"
   ]
  },
  {
   "cell_type": "code",
   "execution_count": null,
   "id": "24a93ef4-943c-48e1-b630-505c487bda00",
   "metadata": {},
   "outputs": [],
   "source": []
  }
 ],
 "metadata": {
  "kernelspec": {
   "display_name": "Python 3 (ipykernel)",
   "language": "python",
   "name": "python3"
  },
  "language_info": {
   "codemirror_mode": {
    "name": "ipython",
    "version": 3
   },
   "file_extension": ".py",
   "mimetype": "text/x-python",
   "name": "python",
   "nbconvert_exporter": "python",
   "pygments_lexer": "ipython3",
   "version": "3.10.2"
  }
 },
 "nbformat": 4,
 "nbformat_minor": 5
}
