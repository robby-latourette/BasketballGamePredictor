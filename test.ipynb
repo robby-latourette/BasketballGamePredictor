{
 "cells": [
  {
   "cell_type": "markdown",
   "metadata": {},
   "source": [
    "based off this video https://youtu.be/JGQGd-oa0l4?si=593LbMAWQE2is-Fi"
   ]
  },
  {
   "cell_type": "code",
   "execution_count": 25,
   "metadata": {},
   "outputs": [],
   "source": [
    "import pandas as pd\n",
    "import requests\n",
    "import nba_api.stats.endpoints as ep\n",
    "import nba_api.stats.library as lib\n",
    "from nba_api.stats.static import players\n",
    "\n",
    "headers  = {\n",
    "    'Connection': 'keep-alive',\n",
    "    'Accept': 'application/json, text/plain, */*',\n",
    "    'x-nba-stats-token': 'true',\n",
    "    'User-Agent': 'Mozilla/5.0 (Macintosh; Intel Mac OS X 10_14_6) AppleWebKit/537.36 (KHTML, like Gecko) Chrome/79.0.3945.130 Safari/537.36',\n",
    "    'x-nba-stats-origin': 'stats',\n",
    "    'Sec-Fetch-Site': 'same-origin',\n",
    "    'Sec-Fetch-Mode': 'cors',\n",
    "    'Referer': 'https://stats.nba.com/',\n",
    "    'Accept-Encoding': 'gzip, deflate, br',\n",
    "    'Accept-Language': 'en-US,en;q=0.9',\n",
    "}"
   ]
  },
  {
   "cell_type": "code",
   "execution_count": 26,
   "metadata": {},
   "outputs": [
    {
     "name": "stdout",
     "output_type": "stream",
     "text": [
      "            id               full_name abbreviation       nickname  \\\n",
      "0   1610612737           Atlanta Hawks          ATL          Hawks   \n",
      "1   1610612738          Boston Celtics          BOS        Celtics   \n",
      "2   1610612739     Cleveland Cavaliers          CLE      Cavaliers   \n",
      "3   1610612740    New Orleans Pelicans          NOP       Pelicans   \n",
      "4   1610612741           Chicago Bulls          CHI          Bulls   \n",
      "5   1610612742        Dallas Mavericks          DAL      Mavericks   \n",
      "6   1610612743          Denver Nuggets          DEN        Nuggets   \n",
      "7   1610612744   Golden State Warriors          GSW       Warriors   \n",
      "8   1610612745         Houston Rockets          HOU        Rockets   \n",
      "9   1610612746    Los Angeles Clippers          LAC       Clippers   \n",
      "10  1610612747      Los Angeles Lakers          LAL         Lakers   \n",
      "11  1610612748              Miami Heat          MIA           Heat   \n",
      "12  1610612749         Milwaukee Bucks          MIL          Bucks   \n",
      "13  1610612750  Minnesota Timberwolves          MIN   Timberwolves   \n",
      "14  1610612751           Brooklyn Nets          BKN           Nets   \n",
      "15  1610612752         New York Knicks          NYK         Knicks   \n",
      "16  1610612753           Orlando Magic          ORL          Magic   \n",
      "17  1610612754          Indiana Pacers          IND         Pacers   \n",
      "18  1610612755      Philadelphia 76ers          PHI          76ers   \n",
      "19  1610612756            Phoenix Suns          PHX           Suns   \n",
      "20  1610612757  Portland Trail Blazers          POR  Trail Blazers   \n",
      "21  1610612758        Sacramento Kings          SAC          Kings   \n",
      "22  1610612759       San Antonio Spurs          SAS          Spurs   \n",
      "23  1610612760   Oklahoma City Thunder          OKC        Thunder   \n",
      "24  1610612761         Toronto Raptors          TOR        Raptors   \n",
      "25  1610612762               Utah Jazz          UTA           Jazz   \n",
      "26  1610612763       Memphis Grizzlies          MEM      Grizzlies   \n",
      "27  1610612764      Washington Wizards          WAS        Wizards   \n",
      "28  1610612765         Detroit Pistons          DET        Pistons   \n",
      "29  1610612766       Charlotte Hornets          CHA        Hornets   \n",
      "\n",
      "             city                 state  year_founded  \n",
      "0         Atlanta               Georgia          1949  \n",
      "1          Boston         Massachusetts          1946  \n",
      "2       Cleveland                  Ohio          1970  \n",
      "3     New Orleans             Louisiana          2002  \n",
      "4         Chicago              Illinois          1966  \n",
      "5          Dallas                 Texas          1980  \n",
      "6          Denver              Colorado          1976  \n",
      "7    Golden State            California          1946  \n",
      "8         Houston                 Texas          1967  \n",
      "9     Los Angeles            California          1970  \n",
      "10    Los Angeles            California          1948  \n",
      "11          Miami               Florida          1988  \n",
      "12      Milwaukee             Wisconsin          1968  \n",
      "13      Minnesota             Minnesota          1989  \n",
      "14       Brooklyn              New York          1976  \n",
      "15       New York              New York          1946  \n",
      "16        Orlando               Florida          1989  \n",
      "17        Indiana               Indiana          1976  \n",
      "18   Philadelphia          Pennsylvania          1949  \n",
      "19        Phoenix               Arizona          1968  \n",
      "20       Portland                Oregon          1970  \n",
      "21     Sacramento            California          1948  \n",
      "22    San Antonio                 Texas          1976  \n",
      "23  Oklahoma City              Oklahoma          1967  \n",
      "24        Toronto               Ontario          1995  \n",
      "25           Utah                  Utah          1974  \n",
      "26        Memphis             Tennessee          1995  \n",
      "27     Washington  District of Columbia          1961  \n",
      "28        Detroit              Michigan          1948  \n",
      "29      Charlotte        North Carolina          1988  \n"
     ]
    }
   ],
   "source": [
    "from nba_api.stats.static import teams\n",
    "\n",
    "nba_teams = teams.get_teams()\n",
    "df = pd.DataFrame(nba_teams)\n",
    "print(df)\n",
    "teamNames = df['full_name'].to_list()"
   ]
  },
  {
   "cell_type": "markdown",
   "metadata": {},
   "source": [
    "# League Leaders"
   ]
  },
  {
   "cell_type": "code",
   "execution_count": 27,
   "metadata": {},
   "outputs": [
    {
     "name": "stdout",
     "output_type": "stream",
     "text": [
      "     PLAYER_ID  RANK                   PLAYER     TEAM_ID TEAM  GP   MIN  FGM  \\\n",
      "0      1628983     1  Shai Gilgeous-Alexander  1610612760  OKC  56  1932  615   \n",
      "1       203507     2    Giannis Antetokounmpo  1610612749  MIL  56  1965  645   \n",
      "2      1629029     2              Luka Doncic  1610612742  DAL  50  1873  583   \n",
      "3      1628973     4            Jalen Brunson  1610612752  NYK  55  1981  539   \n",
      "4       201939     5            Stephen Curry  1610612744  GSW  54  1798  486   \n",
      "..         ...   ...                      ...         ...  ...  ..   ...  ...   \n",
      "541    1631250   526               Pete Nance  1610612739  CLE   2     4    0   \n",
      "542    1631199   526           Ron Harper Jr.  1610612761  TOR   1     4    0   \n",
      "543    1627853   526         Ryan Arcidiacono  1610612752  NYK  20    45    0   \n",
      "544    1630586   526             Usman Garuba  1610612744  GSW   3     8    0   \n",
      "545    1630249   526               Vit Krejci  1610612737  ATL   1     2    0   \n",
      "\n",
      "      FGA  FG_PCT  ...  REB  AST  STL  BLK  TOV   PF   PTS   EFF  AST_TOV  \\\n",
      "0    1122   0.548  ...  309  370  120   51  121  140  1746  1909     3.06   \n",
      "1    1047   0.616  ...  631  360   74   59  197  165  1725  2035     1.83   \n",
      "2    1179   0.494  ...  439  479   75   31  193  102  1725  1859     2.48   \n",
      "3    1128   0.478  ...  205  369   53   11  138  110  1524  1380     2.67   \n",
      "4    1067   0.455  ...  228  275   45   21  163   96  1486  1290     1.69   \n",
      "..    ...     ...  ...  ...  ...  ...  ...  ...  ...   ...   ...      ...   \n",
      "541     2   0.000  ...    0    0    0    0    0    0     0    -2     0.00   \n",
      "542     0   0.000  ...    0    1    0    0    0    2     0     1     0.00   \n",
      "543     6   0.000  ...    8    4    2    0    2    5     0     6     2.00   \n",
      "544     1   0.000  ...    1    1    1    0    0    2     0     2     0.00   \n",
      "545     0   0.000  ...    0    0    0    0    0    0     0     0     0.00   \n",
      "\n",
      "     STL_TOV  \n",
      "0       0.99  \n",
      "1       0.38  \n",
      "2       0.39  \n",
      "3       0.38  \n",
      "4       0.28  \n",
      "..       ...  \n",
      "541     0.00  \n",
      "542     0.00  \n",
      "543     1.00  \n",
      "544     0.00  \n",
      "545     0.00  \n",
      "\n",
      "[546 rows x 28 columns]\n"
     ]
    }
   ],
   "source": [
    "#Index(['PLAYER_ID', 'RANK', 'PLAYER', 'TEAM_ID', 'TEAM', 'GP', 'MIN', 'FGM','FGA', 'FG_PCT', 'FG3M', 'FG3A', 'FG3_PCT', 'FTM', 'FTA', 'FT_PCT', 'OREB', 'DREB', 'REB', 'AST', 'STL', 'BLK', 'TOV', 'PF', 'PTS', 'EFF', 'AST_TOV', 'STL_TOV'],dtype='object')\n",
    "from nba_api.stats.endpoints import leagueleaders\n",
    "game = leagueleaders.LeagueLeaders()\n",
    "game = game.get_data_frames()\n",
    "df = pd.DataFrame(game[0])\n",
    "print(df)"
   ]
  },
  {
   "cell_type": "markdown",
   "metadata": {},
   "source": [
    "# Find last meetups"
   ]
  },
  {
   "cell_type": "code",
   "execution_count": 69,
   "metadata": {},
   "outputs": [
    {
     "name": "stdout",
     "output_type": "stream",
     "text": [
      "Empty DataFrame\n",
      "Columns: [SEASON_YEAR, TEAM_ID, TEAM_ABBREVIATION, TEAM_NAME, GAME_ID, GAME_DATE, MATCHUP, WL, MIN, FGM, FGA, FG_PCT, FG3M, FG3A, FG3_PCT, FTM, FTA, FT_PCT, OREB, DREB, REB, AST, TOV, STL, BLK, BLKA, PF, PFD, PTS, PLUS_MINUS, GP_RANK, W_RANK, L_RANK, W_PCT_RANK, MIN_RANK, FGM_RANK, FGA_RANK, FG_PCT_RANK, FG3M_RANK, FG3A_RANK, FG3_PCT_RANK, FTM_RANK, FTA_RANK, FT_PCT_RANK, OREB_RANK, DREB_RANK, REB_RANK, AST_RANK, TOV_RANK, STL_RANK, BLK_RANK, BLKA_RANK, PF_RANK, PFD_RANK, PTS_RANK, PLUS_MINUS_RANK, AVAILABLE_FLAG]\n",
      "Index: []\n",
      "\n",
      "[0 rows x 57 columns]\n"
     ]
    }
   ],
   "source": [
    "from nba_api.stats.endpoints import teamgamelogs\n",
    "game = teamgamelogs.TeamGameLogs(season_nullable=2024)\n",
    "game = game.get_data_frames()\n",
    "df = pd.DataFrame(game[0])\n",
    "#game = game.get_json()\n",
    "\n",
    "print(df)\n",
    "\n",
    "#with open(\"temp\",\"w+\") as f:\n",
    "#        f.write(df.to_string())\n",
    "\n",
    "\n",
    "\n",
    "#Find the game ids of the last time 2 specific teams met\n",
    "def lastMeetups(team1, team2):\n",
    "    #return gameIds\n",
    "    pass\n",
    "\n"
   ]
  },
  {
   "cell_type": "code",
   "execution_count": null,
   "metadata": {},
   "outputs": [],
   "source": [
    "#Index(['TEAM_NAME', 'TEAM_ID', 'GAMESTREAK', 'STARTDATE', 'ENDDATE','ACTIVESTREAK', 'NUMSEASONS', 'LASTSEASON', 'FIRSTSEASON', 'ABBREVIATION'],dtype='object')\n",
    "from nba_api.stats.endpoints import boxscoreadvancedv2\n",
    "game = boxscoreadvancedv2.BoxScoreAdvancedV2()\n",
    "game = game.get_data_frames()\n",
    "\n",
    "df = pd.DataFrame(game[0])\n",
    "\n",
    "#df = df[df.TEAM_NAME.isin(teamNames)]\n",
    "\n",
    "print(df)\n"
   ]
  },
  {
   "cell_type": "markdown",
   "metadata": {},
   "source": [
    "# Rivalries"
   ]
  },
  {
   "cell_type": "code",
   "execution_count": null,
   "metadata": {},
   "outputs": [],
   "source": [
    "'''\n",
    "Celtics–Lakers \n",
    "Celtics-Warriors \n",
    "\n",
    "Eastern Conference\n",
    "Atlantic Division\n",
    "76ers–Celtics rivalry\n",
    "Celtics–Knicks rivalry\n",
    "Knicks–Nets rivalry\n",
    "\n",
    "Southeast Division\n",
    "Heat–Magic rivalry\n",
    "\n",
    "Interdivisional\n",
    "Bulls–Knicks rivalry\n",
    "Celtics–Heat rivalry\n",
    "Celtics–Pistons rivalry\n",
    "Heat–Knicks rivalry\n",
    "Knicks–Pacers rivalry\n",
    "\n",
    "Western Conference\n",
    "Pacific Division\n",
    "Kings–Lakers rivalry\n",
    "Kings–Warriors rivalry\n",
    "Kings-Clippers\n",
    "Lakers–Clippers rivalry\n",
    "Lakers–Suns rivalry\n",
    "Lakers–Warriors rivalry\n",
    "Suns-Warriors\n",
    "Suns-Clippers\n",
    "Suns-Kings\n",
    "\n",
    "Southwest Division\n",
    "Mavericks–Spurs rivalry\n",
    "Mavericks-Rockets\n",
    "Thunder-Spurs\n",
    "Rockets–Spurs rivalry\n",
    "\n",
    "\n",
    "Northwest Division\n",
    "Jazz–Nuggets rivalry\n",
    "Timberwolves-Nuggets\n",
    "Thunder-Nuggets\n",
    "\n",
    "Interdivisional\n",
    "Jazz–Rockets rivalry\n",
    "Lakers–Spurs rivalry\n",
    "Spurs–Suns rivalry\n",
    "'''"
   ]
  },
  {
   "cell_type": "code",
   "execution_count": null,
   "metadata": {},
   "outputs": [],
   "source": []
  }
 ],
 "metadata": {
  "kernelspec": {
   "display_name": "Python 3",
   "language": "python",
   "name": "python3"
  },
  "language_info": {
   "codemirror_mode": {
    "name": "ipython",
    "version": 3
   },
   "file_extension": ".py",
   "mimetype": "text/x-python",
   "name": "python",
   "nbconvert_exporter": "python",
   "pygments_lexer": "ipython3",
   "version": "3.10.2"
  },
  "orig_nbformat": 4
 },
 "nbformat": 4,
 "nbformat_minor": 2
}
