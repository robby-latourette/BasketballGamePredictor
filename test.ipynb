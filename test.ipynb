{
 "cells": [
  {
   "cell_type": "markdown",
   "metadata": {},
   "source": [
    "based off this video https://youtu.be/JGQGd-oa0l4?si=593LbMAWQE2is-Fi"
   ]
  },
  {
   "cell_type": "code",
   "execution_count": 41,
   "metadata": {},
   "outputs": [],
   "source": [
    "import pandas as pd\n",
    "import requests\n",
    "import nba_api.stats.endpoints as ep\n",
    "import nba_api.stats.library as lib\n",
    "from nba_api.stats.static import players\n",
    "\n",
    "headers  = {\n",
    "    'Connection': 'keep-alive',\n",
    "    'Accept': 'application/json, text/plain, */*',\n",
    "    'x-nba-stats-token': 'true',\n",
    "    'User-Agent': 'Mozilla/5.0 (Macintosh; Intel Mac OS X 10_14_6) AppleWebKit/537.36 (KHTML, like Gecko) Chrome/79.0.3945.130 Safari/537.36',\n",
    "    'x-nba-stats-origin': 'stats',\n",
    "    'Sec-Fetch-Site': 'same-origin',\n",
    "    'Sec-Fetch-Mode': 'cors',\n",
    "    'Referer': 'https://stats.nba.com/',\n",
    "    'Accept-Encoding': 'gzip, deflate, br',\n",
    "    'Accept-Language': 'en-US,en;q=0.9',\n",
    "}"
   ]
  },
  {
   "cell_type": "code",
   "execution_count": 42,
   "metadata": {},
   "outputs": [
    {
     "name": "stdout",
     "output_type": "stream",
     "text": [
      "            id               full_name abbreviation       nickname  \\\n",
      "0   1610612737           Atlanta Hawks          ATL          Hawks   \n",
      "1   1610612738          Boston Celtics          BOS        Celtics   \n",
      "2   1610612739     Cleveland Cavaliers          CLE      Cavaliers   \n",
      "3   1610612740    New Orleans Pelicans          NOP       Pelicans   \n",
      "4   1610612741           Chicago Bulls          CHI          Bulls   \n",
      "5   1610612742        Dallas Mavericks          DAL      Mavericks   \n",
      "6   1610612743          Denver Nuggets          DEN        Nuggets   \n",
      "7   1610612744   Golden State Warriors          GSW       Warriors   \n",
      "8   1610612745         Houston Rockets          HOU        Rockets   \n",
      "9   1610612746    Los Angeles Clippers          LAC       Clippers   \n",
      "10  1610612747      Los Angeles Lakers          LAL         Lakers   \n",
      "11  1610612748              Miami Heat          MIA           Heat   \n",
      "12  1610612749         Milwaukee Bucks          MIL          Bucks   \n",
      "13  1610612750  Minnesota Timberwolves          MIN   Timberwolves   \n",
      "14  1610612751           Brooklyn Nets          BKN           Nets   \n",
      "15  1610612752         New York Knicks          NYK         Knicks   \n",
      "16  1610612753           Orlando Magic          ORL          Magic   \n",
      "17  1610612754          Indiana Pacers          IND         Pacers   \n",
      "18  1610612755      Philadelphia 76ers          PHI          76ers   \n",
      "19  1610612756            Phoenix Suns          PHX           Suns   \n",
      "20  1610612757  Portland Trail Blazers          POR  Trail Blazers   \n",
      "21  1610612758        Sacramento Kings          SAC          Kings   \n",
      "22  1610612759       San Antonio Spurs          SAS          Spurs   \n",
      "23  1610612760   Oklahoma City Thunder          OKC        Thunder   \n",
      "24  1610612761         Toronto Raptors          TOR        Raptors   \n",
      "25  1610612762               Utah Jazz          UTA           Jazz   \n",
      "26  1610612763       Memphis Grizzlies          MEM      Grizzlies   \n",
      "27  1610612764      Washington Wizards          WAS        Wizards   \n",
      "28  1610612765         Detroit Pistons          DET        Pistons   \n",
      "29  1610612766       Charlotte Hornets          CHA        Hornets   \n",
      "\n",
      "             city                 state  year_founded  \n",
      "0         Atlanta               Georgia          1949  \n",
      "1          Boston         Massachusetts          1946  \n",
      "2       Cleveland                  Ohio          1970  \n",
      "3     New Orleans             Louisiana          2002  \n",
      "4         Chicago              Illinois          1966  \n",
      "5          Dallas                 Texas          1980  \n",
      "6          Denver              Colorado          1976  \n",
      "7    Golden State            California          1946  \n",
      "8         Houston                 Texas          1967  \n",
      "9     Los Angeles            California          1970  \n",
      "10    Los Angeles            California          1948  \n",
      "11          Miami               Florida          1988  \n",
      "12      Milwaukee             Wisconsin          1968  \n",
      "13      Minnesota             Minnesota          1989  \n",
      "14       Brooklyn              New York          1976  \n",
      "15       New York              New York          1946  \n",
      "16        Orlando               Florida          1989  \n",
      "17        Indiana               Indiana          1976  \n",
      "18   Philadelphia          Pennsylvania          1949  \n",
      "19        Phoenix               Arizona          1968  \n",
      "20       Portland                Oregon          1970  \n",
      "21     Sacramento            California          1948  \n",
      "22    San Antonio                 Texas          1976  \n",
      "23  Oklahoma City              Oklahoma          1967  \n",
      "24        Toronto               Ontario          1995  \n",
      "25           Utah                  Utah          1974  \n",
      "26        Memphis             Tennessee          1995  \n",
      "27     Washington  District of Columbia          1961  \n",
      "28        Detroit              Michigan          1948  \n",
      "29      Charlotte        North Carolina          1988  \n"
     ]
    }
   ],
   "source": [
    "from nba_api.stats.static import teams\n",
    "\n",
    "nba_teams = teams.get_teams()\n",
    "df = pd.DataFrame(nba_teams)\n",
    "print(df)\n",
    "teamNames = df['full_name'].to_list()"
   ]
  },
  {
   "cell_type": "markdown",
   "metadata": {},
   "source": [
    "# League Leaders"
   ]
  },
  {
   "cell_type": "code",
   "execution_count": 43,
   "metadata": {},
   "outputs": [
    {
     "name": "stdout",
     "output_type": "stream",
     "text": [
      "     PLAYER_ID  RANK                   PLAYER     TEAM_ID TEAM  GP   MIN  FGM  \\\n",
      "0      1628983     1  Shai Gilgeous-Alexander  1610612760  OKC  59  2037  653   \n",
      "1      1629029     2              Luka Doncic  1610612742  DAL  53  1985  622   \n",
      "2       203507     3    Giannis Antetokounmpo  1610612749  MIL  59  2060  679   \n",
      "3      1628973     4            Jalen Brunson  1610612752  NYK  57  2019  550   \n",
      "4       201939     5            Stephen Curry  1610612744  GSW  57  1877  508   \n",
      "..         ...   ...                      ...         ...  ...  ..   ...  ...   \n",
      "543    1631250   528               Pete Nance  1610612739  CLE   2     4    0   \n",
      "544    1631199   528           Ron Harper Jr.  1610612761  TOR   1     4    0   \n",
      "545    1627853   528         Ryan Arcidiacono  1610612752  NYK  20    45    0   \n",
      "546    1630586   528             Usman Garuba  1610612744  GSW   3     8    0   \n",
      "547    1630249   528               Vit Krejci  1610612737  ATL   1     2    0   \n",
      "\n",
      "      FGA  FG_PCT  ...  REB  AST  STL  BLK  TOV   PF   PTS   EFF  AST_TOV  \\\n",
      "0    1192   0.548  ...  331  385  125   55  125  150  1843  2012     3.08   \n",
      "1    1254   0.496  ...  473  516   78   31  207  110  1830  1984     2.49   \n",
      "2    1097   0.619  ...  665  372   75   60  200  172  1819  2152     1.86   \n",
      "3    1154   0.477  ...  210  374   53   11  142  114  1551  1398     2.63   \n",
      "4    1128   0.450  ...  246  285   46   21  172   98  1546  1331     1.66   \n",
      "..    ...     ...  ...  ...  ...  ...  ...  ...  ...   ...   ...      ...   \n",
      "543     2   0.000  ...    0    0    0    0    0    0     0    -2     0.00   \n",
      "544     0   0.000  ...    0    1    0    0    0    2     0     1     0.00   \n",
      "545     6   0.000  ...    8    4    2    0    2    5     0     6     2.00   \n",
      "546     1   0.000  ...    1    1    1    0    0    2     0     2     0.00   \n",
      "547     0   0.000  ...    0    0    0    0    0    0     0     0     0.00   \n",
      "\n",
      "     STL_TOV  \n",
      "0       1.00  \n",
      "1       0.38  \n",
      "2       0.38  \n",
      "3       0.37  \n",
      "4       0.27  \n",
      "..       ...  \n",
      "543     0.00  \n",
      "544     0.00  \n",
      "545     1.00  \n",
      "546     0.00  \n",
      "547     0.00  \n",
      "\n",
      "[548 rows x 28 columns]\n"
     ]
    }
   ],
   "source": [
    "#Index(['PLAYER_ID', 'RANK', 'PLAYER', 'TEAM_ID', 'TEAM', 'GP', 'MIN', 'FGM','FGA', 'FG_PCT', 'FG3M', 'FG3A', 'FG3_PCT', 'FTM', 'FTA', 'FT_PCT', 'OREB', 'DREB', 'REB', 'AST', 'STL', 'BLK', 'TOV', 'PF', 'PTS', 'EFF', 'AST_TOV', 'STL_TOV'],dtype='object')\n",
    "from nba_api.stats.endpoints import leagueleaders\n",
    "game = leagueleaders.LeagueLeaders()\n",
    "game = game.get_data_frames()\n",
    "df = pd.DataFrame(game[0])\n",
    "print(df)\n"
   ]
  },
  {
   "cell_type": "markdown",
   "metadata": {},
   "source": [
    "# Find last meetups"
   ]
  },
  {
   "cell_type": "code",
   "execution_count": 89,
   "metadata": {},
   "outputs": [
    {
     "name": "stdout",
     "output_type": "stream",
     "text": [
      "765     0022300505\n",
      "1714    0022300127\n",
      "76      0022300848\n",
      "539     0022300618\n",
      "1029    0022200719\n",
      "2428    0022200016\n",
      "71      0022201196\n",
      "2136    0022200170\n",
      "Name: GAME_ID, dtype: object\n"
     ]
    }
   ],
   "source": [
    "# from nba_api.stats.endpoints import teamgamelogs\n",
    "# game = teamgamelogs.TeamGameLogs(season_nullable=2024)\n",
    "# game = game.get_data_frames()\n",
    "# df = pd.DataFrame(game[0])\n",
    "# #game = game.get_json()\n",
    "\n",
    "# print(df)\n",
    "\n",
    "# #with open(\"temp\",\"w+\") as f:\n",
    "# #        f.write(df.to_string())\n",
    "\n",
    "\n",
    "\n",
    "\n",
    "\n",
    "#Index(['SEASON_ID', 'TEAM_ID', 'TEAM_ABBREVIATION', 'TEAM_NAME', 'GAME_ID', 'GAME_DATE', 'MATCHUP', 'WL', 'MIN', 'PTS', 'FGM', 'FGA', 'FG_PCT', 'FG3M', 'FG3A', 'FG3_PCT', 'FTM', 'FTA', 'FT_PCT', 'OREB', 'DREB', 'REB', 'AST', 'STL', 'BLK', 'TOV', 'PF', 'PLUS_MINUS'], dtype='object')\n",
    "from nba_api.stats.endpoints import leaguegamefinder\n",
    "gamefinderCurrSeason = leaguegamefinder.LeagueGameFinder(season_nullable = '2023-24',\n",
    "                                               league_id_nullable='00',\n",
    "                                               season_type_nullable='Regular Season')\n",
    "gamefinderLastSeason = leaguegamefinder.LeagueGameFinder(season_nullable = '2022-23',\n",
    "                                               league_id_nullable='00',\n",
    "                                               season_type_nullable='Regular Season')\n",
    "currSeason = gamefinderCurrSeason.get_data_frames()[0]\n",
    "lastSeason = gamefinderLastSeason.get_data_frames()[0]\n",
    "\n",
    "currSeason = pd.DataFrame(currSeason)\n",
    "lastSeason = pd.DataFrame(lastSeason)\n",
    "\n",
    "# df = df[df.TEAM_ABBREVIATION == 'UTA']\n",
    "# with open(\"temp\",\"w+\") as f:\n",
    "#        f.write(df.to_string())\n",
    "\n",
    "\n",
    "#Find the game ids of the last time 2 specific teams met\n",
    "def lastMeetups(team1, team2):\n",
    "\n",
    "       gameIds = pd.concat([currSeason[currSeason.MATCHUP == (team1+' vs. ' +team2)], currSeason[currSeason.MATCHUP == (team1+' @ ' +team2)], \n",
    "                            lastSeason[lastSeason.MATCHUP == (team1+' vs. ' +team2)], lastSeason[lastSeason.MATCHUP == (team1+' @ ' +team2)]]) \n",
    "       \n",
    "       gameIds = gameIds['GAME_ID']\n",
    "\n",
    "       return gameIds\n",
    "       pass\n",
    "\n",
    "\n",
    "clipslakers = lastMeetups('LAL','LAC')\n",
    "print(clipslakers)"
   ]
  },
  {
   "cell_type": "code",
   "execution_count": 130,
   "metadata": {},
   "outputs": [
    {
     "name": "stdout",
     "output_type": "stream",
     "text": [
      "    SEASON_ID     TEAM_ID TEAM_ABBREVIATION          TEAM_NAME     GAME_ID  \\\n",
      "166     22023  1610612762               UTA          Utah Jazz  0022300801   \n",
      "181     22023  1610612766               CHA  Charlotte Hornets  0022300801   \n",
      "\n",
      "      GAME_DATE      MATCHUP WL  MIN  PTS  ...  FT_PCT  OREB  DREB  REB  AST  \\\n",
      "166  2024-02-22  UTA vs. CHA  L  240  107  ...   0.889    15    39   54   26   \n",
      "181  2024-02-22    CHA @ UTA  W  240  115  ...   0.682    12    30   42   28   \n",
      "\n",
      "     STL  BLK  TOV  PF  PLUS_MINUS  \n",
      "166    3    2   19  21        -8.0  \n",
      "181   11    3    9  23         8.0  \n",
      "\n",
      "[2 rows x 28 columns]\n"
     ]
    }
   ],
   "source": [
    "game = last2Seasons[last2Seasons.GAME_ID == '0022300801']\n",
    "temp = game['PTS'].to_list()\n",
    "print(game)\n"
   ]
  },
  {
   "cell_type": "code",
   "execution_count": 136,
   "metadata": {},
   "outputs": [
    {
     "name": "stdout",
     "output_type": "stream",
     "text": [
      "[103, 106]\n",
      "-3\n",
      "[125, 130]\n",
      "-8\n",
      "[112, 116]\n",
      "-12\n",
      "[127, 116]\n",
      "-1\n",
      "[115, 133]\n",
      "-19\n",
      "[97, 103]\n",
      "-25\n",
      "[118, 125]\n",
      "-32\n",
      "[114, 101]\n",
      "-19\n",
      "-2.375\n"
     ]
    }
   ],
   "source": [
    "last2Seasons = pd.concat([currSeason, lastSeason])\n",
    "#Return avg difference in score given list gameids\n",
    "def avgScore(games):\n",
    "    \n",
    "    accum = 0\n",
    "\n",
    "    for game in games:\n",
    "        game = last2Seasons[last2Seasons.GAME_ID == game]\n",
    "        pts = game['PTS'].to_list()\n",
    "        print(pts)\n",
    "        accum = accum + (pts[0]-pts[1])\n",
    "        print(accum)\n",
    "    \n",
    "    avgdiff = accum / games.size\n",
    "    #print(games.size)\n",
    "    return avgdiff \n",
    "\n",
    "print(avgScore(clipslakers))"
   ]
  },
  {
   "cell_type": "markdown",
   "metadata": {},
   "source": [
    "# Rivalries"
   ]
  },
  {
   "cell_type": "code",
   "execution_count": 46,
   "metadata": {},
   "outputs": [
    {
     "data": {
      "text/plain": [
       "'\\nCeltics–Lakers \\nCeltics-Warriors \\n\\nEastern Conference\\nAtlantic Division\\n76ers–Celtics rivalry\\nCeltics–Knicks rivalry\\nKnicks–Nets rivalry\\n\\nSoutheast Division\\nHeat–Magic rivalry\\n\\nInterdivisional\\nBulls–Knicks rivalry\\nCeltics–Heat rivalry\\nCeltics–Pistons rivalry\\nHeat–Knicks rivalry\\nKnicks–Pacers rivalry\\n\\nWestern Conference\\nPacific Division\\nKings–Lakers rivalry\\nKings–Warriors rivalry\\nKings-Clippers\\nLakers–Clippers rivalry\\nLakers–Suns rivalry\\nLakers–Warriors rivalry\\nSuns-Warriors\\nSuns-Clippers\\nSuns-Kings\\n\\nSouthwest Division\\nMavericks–Spurs rivalry\\nMavericks-Rockets\\nThunder-Spurs\\nRockets–Spurs rivalry\\n\\n\\nNorthwest Division\\nJazz–Nuggets rivalry\\nTimberwolves-Nuggets\\nThunder-Nuggets\\n\\nInterdivisional\\nJazz–Rockets rivalry\\nLakers–Spurs rivalry\\nSpurs–Suns rivalry\\n'"
      ]
     },
     "execution_count": 46,
     "metadata": {},
     "output_type": "execute_result"
    }
   ],
   "source": [
    "'''\n",
    "Celtics–Lakers \n",
    "Celtics-Warriors \n",
    "\n",
    "Eastern Conference\n",
    "Atlantic Division\n",
    "76ers–Celtics rivalry\n",
    "Celtics–Knicks rivalry\n",
    "Knicks–Nets rivalry\n",
    "\n",
    "Southeast Division\n",
    "Heat–Magic rivalry\n",
    "\n",
    "Interdivisional\n",
    "Bulls–Knicks rivalry\n",
    "Celtics–Heat rivalry\n",
    "Celtics–Pistons rivalry\n",
    "Heat–Knicks rivalry\n",
    "Knicks–Pacers rivalry\n",
    "\n",
    "Western Conference\n",
    "Pacific Division\n",
    "Kings–Lakers rivalry\n",
    "Kings–Warriors rivalry\n",
    "Kings-Clippers\n",
    "Lakers–Clippers rivalry\n",
    "Lakers–Suns rivalry\n",
    "Lakers–Warriors rivalry\n",
    "Suns-Warriors\n",
    "Suns-Clippers\n",
    "Suns-Kings\n",
    "\n",
    "Southwest Division\n",
    "Mavericks–Spurs rivalry\n",
    "Mavericks-Rockets\n",
    "Thunder-Spurs\n",
    "Rockets–Spurs rivalry\n",
    "\n",
    "\n",
    "Northwest Division\n",
    "Jazz–Nuggets rivalry\n",
    "Timberwolves-Nuggets\n",
    "Thunder-Nuggets\n",
    "\n",
    "Interdivisional\n",
    "Jazz–Rockets rivalry\n",
    "Lakers–Spurs rivalry\n",
    "Spurs–Suns rivalry\n",
    "'''"
   ]
  },
  {
   "cell_type": "code",
   "execution_count": null,
   "metadata": {},
   "outputs": [],
   "source": []
  }
 ],
 "metadata": {
  "kernelspec": {
   "display_name": "Python 3",
   "language": "python",
   "name": "python3"
  },
  "language_info": {
   "codemirror_mode": {
    "name": "ipython",
    "version": 3
   },
   "file_extension": ".py",
   "mimetype": "text/x-python",
   "name": "python",
   "nbconvert_exporter": "python",
   "pygments_lexer": "ipython3",
   "version": "3.10.2"
  },
  "orig_nbformat": 4
 },
 "nbformat": 4,
 "nbformat_minor": 2
}
