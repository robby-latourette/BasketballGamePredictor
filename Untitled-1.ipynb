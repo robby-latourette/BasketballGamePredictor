{
 "cells": [
  {
   "cell_type": "code",
   "execution_count": 1,
   "metadata": {},
   "outputs": [
    {
     "name": "stdout",
     "output_type": "stream",
     "text": [
      "  Team  RR\n",
      "0  LAL   5\n",
      "1  LAC   3\n",
      "2  SAC   4\n",
      "3  OKC   2\n",
      "4  PHX   3\n",
      "5  BOS   5\n"
     ]
    },
    {
     "name": "stderr",
     "output_type": "stream",
     "text": [
      "C:\\Users\\jettb\\AppData\\Local\\Temp\\ipykernel_24304\\4205996311.py:1: DeprecationWarning: \n",
      "Pyarrow will become a required dependency of pandas in the next major release of pandas (pandas 3.0),\n",
      "(to allow more performant data types, such as the Arrow string type, and better interoperability with other libraries)\n",
      "but was not found to be installed on your system.\n",
      "If this would cause problems for you,\n",
      "please provide us feedback at https://github.com/pandas-dev/pandas/issues/54466\n",
      "        \n",
      "  import pandas as pd\n"
     ]
    }
   ],
   "source": [
    "import pandas as pd\n",
    "gsw_rivals = {'Team':['LAL', 'LAC', 'SAC', 'OKC', 'PHX', 'BOS', 'MEM'],\n",
    "        'RR':[5, 3, 4, 2, 3, 5, 4]}\n",
    "gsw = pd.DataFrame(gsw_rivals)\n",
    "print(gsw)"
   ]
  },
  {
   "cell_type": "code",
   "execution_count": 2,
   "metadata": {},
   "outputs": [
    {
     "name": "stdout",
     "output_type": "stream",
     "text": [
      "  Team  RR\n",
      "0  GSW   5\n",
      "1  LAC   5\n",
      "2  SAC   2\n",
      "3  PHX   3\n",
      "4  BOS   5\n"
     ]
    }
   ],
   "source": [
    "lal_rivals = {'Team':['GSW', 'LAC', 'SAC', 'PHX', 'BOS', 'SAS'],\n",
    "        'RR':[5, 5, 2, 3, 5, 3]}\n",
    "lal = pd.DataFrame(lal_rivals)\n",
    "print(lal)"
   ]
  },
  {
   "cell_type": "code",
   "execution_count": 4,
   "metadata": {},
   "outputs": [
    {
     "name": "stdout",
     "output_type": "stream",
     "text": [
      "  Team  RR\n",
      "0  GSW   4\n",
      "1  LAC   2\n",
      "2  LAL   2\n",
      "3  PHX   1\n"
     ]
    }
   ],
   "source": [
    "sac_rivals = {'Team':['GSW', 'LAC', 'LAL', 'PHX'],\n",
    "        'RR':[4, 2, 2, 1]}\n",
    "sac = pd.DataFrame(sac_rivals)\n",
    "print(sac)"
   ]
  },
  {
   "cell_type": "code",
   "execution_count": 3,
   "metadata": {},
   "outputs": [
    {
     "name": "stdout",
     "output_type": "stream",
     "text": [
      "  Team  RR\n",
      "0  GSW   3\n",
      "1  LAL   5\n",
      "2  SAC   2\n",
      "3  PHX   2\n"
     ]
    }
   ],
   "source": [
    "lac_rivals = {'Team':['GSW', 'LAL', 'SAC', 'PHX'],\n",
    "        'RR':[3, 5, 2, 2]}\n",
    "lac = pd.DataFrame(lac_rivals)\n",
    "print(lac)"
   ]
  },
  {
   "cell_type": "code",
   "execution_count": 5,
   "metadata": {},
   "outputs": [
    {
     "name": "stdout",
     "output_type": "stream",
     "text": [
      "  Team  RR\n",
      "0  GSW   3\n",
      "1  LAC   2\n",
      "2  SAC   1\n",
      "3  LAL   3\n"
     ]
    }
   ],
   "source": [
    "phx_rivals = {'Team':['GSW', 'LAC', 'SAC', 'LAL'],\n",
    "        'RR':[3, 2, 1, 3]}\n",
    "phx = pd.DataFrame(phx_rivals)\n",
    "print(phx)"
   ]
  },
  {
   "cell_type": "code",
   "execution_count": 6,
   "metadata": {},
   "outputs": [
    {
     "name": "stdout",
     "output_type": "stream",
     "text": [
      "  Team  RR\n",
      "0  SAS   2\n",
      "1  HOU   2\n",
      "2  PHX   5\n"
     ]
    }
   ],
   "source": [
    "dal_rivals = {'Team':['SAS', 'HOU', 'PHX'],\n",
    "        'RR':[2, 2, 5]}\n",
    "dal = pd.DataFrame(dal_rivals)\n",
    "print(dal)"
   ]
  },
  {
   "cell_type": "code",
   "execution_count": 7,
   "metadata": {},
   "outputs": [
    {
     "name": "stdout",
     "output_type": "stream",
     "text": [
      "  Team  RR\n",
      "0  DAL   2\n",
      "1  HOU   2\n",
      "2  OKC   4\n",
      "3  LAL   3\n"
     ]
    }
   ],
   "source": [
    "sas_rivals = {'Team':['DAL', 'HOU', 'OKC', 'LAL'],\n",
    "        'RR':[2, 2, 4, 3]}\n",
    "sas = pd.DataFrame(sas_rivals)\n",
    "print(sas)"
   ]
  },
  {
   "cell_type": "code",
   "execution_count": 9,
   "metadata": {},
   "outputs": [
    {
     "name": "stdout",
     "output_type": "stream",
     "text": [
      "  Team  RR\n",
      "0  SAS   2\n",
      "1  GSW   3\n"
     ]
    }
   ],
   "source": [
    "okc_rivals = {'Team':['SAS', 'GSW'],\n",
    "        'RR':[2, 3]}\n",
    "okc = pd.DataFrame(okc_rivals)\n",
    "print(okc)"
   ]
  },
  {
   "cell_type": "code",
   "execution_count": 10,
   "metadata": {},
   "outputs": [
    {
     "name": "stdout",
     "output_type": "stream",
     "text": [
      "  Team  RR\n",
      "0  MIN   2\n",
      "1  OKC   2\n",
      "2  MIA   4\n",
      "3  LAL   4\n"
     ]
    }
   ],
   "source": [
    "den_rivals = {'Team':['MIN', 'UTA', 'MIA', 'LAL'],\n",
    "        'RR':[2, 2, 4, 4]}\n",
    "den = pd.DataFrame(den_rivals)\n",
    "print(den)"
   ]
  },
  {
   "cell_type": "code",
   "execution_count": 11,
   "metadata": {},
   "outputs": [
    {
     "name": "stdout",
     "output_type": "stream",
     "text": [
      "  Team  RR\n",
      "0  DEN   2\n"
     ]
    }
   ],
   "source": [
    "min_rivals = {'Team':['DEN'],\n",
    "        'RR':[2]}\n",
    "min = pd.DataFrame(min_rivals)\n",
    "print(min)"
   ]
  },
  {
   "cell_type": "code",
   "execution_count": 12,
   "metadata": {},
   "outputs": [
    {
     "name": "stdout",
     "output_type": "stream",
     "text": [
      "  Team  RR\n",
      "0  DEN   2\n",
      "1  HOU   1\n"
     ]
    }
   ],
   "source": [
    "uta_rivals = {'Team':['DEN', 'HOU'],\n",
    "        'RR':[2, 1]}\n",
    "uta = pd.DataFrame(uta_rivals)\n",
    "print(uta)"
   ]
  },
  {
   "cell_type": "code",
   "execution_count": 13,
   "metadata": {},
   "outputs": [
    {
     "name": "stdout",
     "output_type": "stream",
     "text": [
      "  Team  RR\n",
      "0  GSW   4\n"
     ]
    }
   ],
   "source": [
    "mem_rivals = {'Team':['GSW'],\n",
    "        'RR':[4]}\n",
    "mem = pd.DataFrame(mem_rivals)\n",
    "print(mem)"
   ]
  },
  {
   "cell_type": "code",
   "execution_count": null,
   "metadata": {},
   "outputs": [],
   "source": [
    "bos_rivals = {'Team':['PHI', 'GSW', 'NYK', 'LAL', 'MIA', 'DET'],\n",
    "        'RR':[3, 5, 3, 5, 5, 1]}\n",
    "bos = pd.DataFrame(bos_rivals)\n",
    "print(bos)"
   ]
  },
  {
   "cell_type": "code",
   "execution_count": 14,
   "metadata": {},
   "outputs": [
    {
     "name": "stdout",
     "output_type": "stream",
     "text": [
      "  Team  RR\n",
      "0  BOS   3\n"
     ]
    }
   ],
   "source": [
    "phi_rivals = {'Team':['BOS'],\n",
    "        'RR':[3]}\n",
    "phi = pd.DataFrame(phi_rivals)\n",
    "print(phi)"
   ]
  },
  {
   "cell_type": "code",
   "execution_count": null,
   "metadata": {},
   "outputs": [],
   "source": [
    "nyk_rivals = {'Team':['BOS', 'BKN', 'MIA'],\n",
    "        'RR':[3, 4, 4]}\n",
    "nyk = pd.DataFrame(nyk_rivals)\n",
    "print(nyk)"
   ]
  },
  {
   "cell_type": "code",
   "execution_count": null,
   "metadata": {},
   "outputs": [],
   "source": [
    "bkn_rivals = {'Team':['NYK'],\n",
    "        'RR':[4]}\n",
    "bkn = pd.DataFrame(bkn_rivals)\n",
    "print(bkn)"
   ]
  },
  {
   "cell_type": "code",
   "execution_count": null,
   "metadata": {},
   "outputs": [],
   "source": [
    "mia_rivals = {'Team':['ORL', 'BOS', 'NYK', 'DEN'],\n",
    "        'RR':[2, 5, 4, 4]}\n",
    "mia = pd.DataFrame(mia_rivals)\n",
    "print(mia)"
   ]
  },
  {
   "cell_type": "code",
   "execution_count": null,
   "metadata": {},
   "outputs": [],
   "source": [
    "det_rivals = {'Team':['BOS'],\n",
    "        'RR':[1]}\n",
    "det = pd.DataFrame(det_rivals)\n",
    "print(det)"
   ]
  }
 ],
 "metadata": {
  "kernelspec": {
   "display_name": "Python 3",
   "language": "python",
   "name": "python3"
  },
  "language_info": {
   "codemirror_mode": {
    "name": "ipython",
    "version": 3
   },
   "file_extension": ".py",
   "mimetype": "text/x-python",
   "name": "python",
   "nbconvert_exporter": "python",
   "pygments_lexer": "ipython3",
   "version": "3.12.0"
  }
 },
 "nbformat": 4,
 "nbformat_minor": 2
}
